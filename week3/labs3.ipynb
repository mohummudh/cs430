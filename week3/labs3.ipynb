{
 "cells": [
  {
   "cell_type": "code",
   "execution_count": 36,
   "id": "61f7ed88",
   "metadata": {},
   "outputs": [],
   "source": [
    "import pandas as pd\n",
    "import matplotlib.pyplot as plt\n",
    "import seaborn as sns\n",
    "\n",
    "from scipy.io import arff"
   ]
  },
  {
   "cell_type": "code",
   "execution_count": 10,
   "id": "65689ed0",
   "metadata": {},
   "outputs": [],
   "source": [
    "data = arff.loadarff('adult.arff')"
   ]
  },
  {
   "cell_type": "code",
   "execution_count": 11,
   "id": "2c3b5baa",
   "metadata": {},
   "outputs": [
    {
     "data": {
      "text/html": [
       "<div>\n",
       "<style scoped>\n",
       "    .dataframe tbody tr th:only-of-type {\n",
       "        vertical-align: middle;\n",
       "    }\n",
       "\n",
       "    .dataframe tbody tr th {\n",
       "        vertical-align: top;\n",
       "    }\n",
       "\n",
       "    .dataframe thead th {\n",
       "        text-align: right;\n",
       "    }\n",
       "</style>\n",
       "<table border=\"1\" class=\"dataframe\">\n",
       "  <thead>\n",
       "    <tr style=\"text-align: right;\">\n",
       "      <th></th>\n",
       "      <th>age</th>\n",
       "      <th>workclass</th>\n",
       "      <th>fnlwgt</th>\n",
       "      <th>education</th>\n",
       "      <th>education-num</th>\n",
       "      <th>marital-status</th>\n",
       "      <th>occupation</th>\n",
       "      <th>relationship</th>\n",
       "      <th>race</th>\n",
       "      <th>sex</th>\n",
       "      <th>capital-gain</th>\n",
       "      <th>capital-loss</th>\n",
       "      <th>hours-per-week</th>\n",
       "      <th>native-country</th>\n",
       "      <th>class</th>\n",
       "    </tr>\n",
       "  </thead>\n",
       "  <tbody>\n",
       "    <tr>\n",
       "      <th>1</th>\n",
       "      <td>38.0</td>\n",
       "      <td>b'Private'</td>\n",
       "      <td>89814.0</td>\n",
       "      <td>b'HS-grad'</td>\n",
       "      <td>9.0</td>\n",
       "      <td>b'Married-civ-spouse'</td>\n",
       "      <td>b'Farming-fishing'</td>\n",
       "      <td>b'Husband'</td>\n",
       "      <td>b'White'</td>\n",
       "      <td>b'Male'</td>\n",
       "      <td>0.0</td>\n",
       "      <td>0.0</td>\n",
       "      <td>50.0</td>\n",
       "      <td>b'United-States'</td>\n",
       "      <td>b'&lt;=50K'</td>\n",
       "    </tr>\n",
       "    <tr>\n",
       "      <th>2</th>\n",
       "      <td>28.0</td>\n",
       "      <td>b'Local-gov'</td>\n",
       "      <td>336951.0</td>\n",
       "      <td>b'Assoc-acdm'</td>\n",
       "      <td>12.0</td>\n",
       "      <td>b'Married-civ-spouse'</td>\n",
       "      <td>b'Protective-serv'</td>\n",
       "      <td>b'Husband'</td>\n",
       "      <td>b'White'</td>\n",
       "      <td>b'Male'</td>\n",
       "      <td>0.0</td>\n",
       "      <td>0.0</td>\n",
       "      <td>40.0</td>\n",
       "      <td>b'United-States'</td>\n",
       "      <td>b'&gt;50K'</td>\n",
       "    </tr>\n",
       "    <tr>\n",
       "      <th>3</th>\n",
       "      <td>44.0</td>\n",
       "      <td>b'Private'</td>\n",
       "      <td>160323.0</td>\n",
       "      <td>b'Some-college'</td>\n",
       "      <td>10.0</td>\n",
       "      <td>b'Married-civ-spouse'</td>\n",
       "      <td>b'Machine-op-inspct'</td>\n",
       "      <td>b'Husband'</td>\n",
       "      <td>b'Black'</td>\n",
       "      <td>b'Male'</td>\n",
       "      <td>7688.0</td>\n",
       "      <td>0.0</td>\n",
       "      <td>40.0</td>\n",
       "      <td>b'United-States'</td>\n",
       "      <td>b'&gt;50K'</td>\n",
       "    </tr>\n",
       "    <tr>\n",
       "      <th>4</th>\n",
       "      <td>18.0</td>\n",
       "      <td>b'?'</td>\n",
       "      <td>103497.0</td>\n",
       "      <td>b'Some-college'</td>\n",
       "      <td>10.0</td>\n",
       "      <td>b'Never-married'</td>\n",
       "      <td>b'?'</td>\n",
       "      <td>b'Own-child'</td>\n",
       "      <td>b'White'</td>\n",
       "      <td>b'Female'</td>\n",
       "      <td>0.0</td>\n",
       "      <td>0.0</td>\n",
       "      <td>30.0</td>\n",
       "      <td>b'United-States'</td>\n",
       "      <td>b'&lt;=50K'</td>\n",
       "    </tr>\n",
       "    <tr>\n",
       "      <th>5</th>\n",
       "      <td>34.0</td>\n",
       "      <td>b'Private'</td>\n",
       "      <td>198693.0</td>\n",
       "      <td>b'10th'</td>\n",
       "      <td>6.0</td>\n",
       "      <td>b'Never-married'</td>\n",
       "      <td>b'Other-service'</td>\n",
       "      <td>b'Not-in-family'</td>\n",
       "      <td>b'White'</td>\n",
       "      <td>b'Male'</td>\n",
       "      <td>0.0</td>\n",
       "      <td>0.0</td>\n",
       "      <td>30.0</td>\n",
       "      <td>b'United-States'</td>\n",
       "      <td>b'&lt;=50K'</td>\n",
       "    </tr>\n",
       "  </tbody>\n",
       "</table>\n",
       "</div>"
      ],
      "text/plain": [
       "    age     workclass    fnlwgt        education  education-num  \\\n",
       "1  38.0    b'Private'   89814.0       b'HS-grad'            9.0   \n",
       "2  28.0  b'Local-gov'  336951.0    b'Assoc-acdm'           12.0   \n",
       "3  44.0    b'Private'  160323.0  b'Some-college'           10.0   \n",
       "4  18.0          b'?'  103497.0  b'Some-college'           10.0   \n",
       "5  34.0    b'Private'  198693.0          b'10th'            6.0   \n",
       "\n",
       "          marital-status            occupation      relationship      race  \\\n",
       "1  b'Married-civ-spouse'    b'Farming-fishing'        b'Husband'  b'White'   \n",
       "2  b'Married-civ-spouse'    b'Protective-serv'        b'Husband'  b'White'   \n",
       "3  b'Married-civ-spouse'  b'Machine-op-inspct'        b'Husband'  b'Black'   \n",
       "4       b'Never-married'                  b'?'      b'Own-child'  b'White'   \n",
       "5       b'Never-married'      b'Other-service'  b'Not-in-family'  b'White'   \n",
       "\n",
       "         sex  capital-gain  capital-loss  hours-per-week    native-country  \\\n",
       "1    b'Male'           0.0           0.0            50.0  b'United-States'   \n",
       "2    b'Male'           0.0           0.0            40.0  b'United-States'   \n",
       "3    b'Male'        7688.0           0.0            40.0  b'United-States'   \n",
       "4  b'Female'           0.0           0.0            30.0  b'United-States'   \n",
       "5    b'Male'           0.0           0.0            30.0  b'United-States'   \n",
       "\n",
       "      class  \n",
       "1  b'<=50K'  \n",
       "2   b'>50K'  \n",
       "3   b'>50K'  \n",
       "4  b'<=50K'  \n",
       "5  b'<=50K'  "
      ]
     },
     "execution_count": 11,
     "metadata": {},
     "output_type": "execute_result"
    }
   ],
   "source": [
    "df = pd.DataFrame(data[0])\n",
    "df = df.drop(0)\n",
    "df.head()"
   ]
  },
  {
   "cell_type": "code",
   "execution_count": 14,
   "id": "58ac2878",
   "metadata": {},
   "outputs": [
    {
     "data": {
      "text/plain": [
       "38.6438647857333"
      ]
     },
     "execution_count": 14,
     "metadata": {},
     "output_type": "execute_result"
    }
   ],
   "source": [
    "df.age.mean()"
   ]
  },
  {
   "cell_type": "code",
   "execution_count": 16,
   "id": "99ccd0d9",
   "metadata": {},
   "outputs": [
    {
     "data": {
      "text/plain": [
       "17.0"
      ]
     },
     "execution_count": 16,
     "metadata": {},
     "output_type": "execute_result"
    }
   ],
   "source": [
    "df.age.min()"
   ]
  },
  {
   "cell_type": "code",
   "execution_count": 17,
   "id": "3ac85bc4",
   "metadata": {},
   "outputs": [
    {
     "data": {
      "text/plain": [
       "90.0"
      ]
     },
     "execution_count": 17,
     "metadata": {},
     "output_type": "execute_result"
    }
   ],
   "source": [
    "df.age.max()"
   ]
  },
  {
   "cell_type": "code",
   "execution_count": 19,
   "id": "571260b3",
   "metadata": {},
   "outputs": [
    {
     "data": {
      "text/plain": [
       "40.42239102393481"
      ]
     },
     "execution_count": 19,
     "metadata": {},
     "output_type": "execute_result"
    }
   ],
   "source": [
    "df['hours-per-week'].mean()"
   ]
  },
  {
   "cell_type": "code",
   "execution_count": 23,
   "id": "c3a071ae",
   "metadata": {
    "collapsed": true
   },
   "outputs": [
    {
     "data": {
      "text/plain": [
       "occupation\n",
       "b'Prof-specialty'       6172\n",
       "b'Craft-repair'         6112\n",
       "b'Exec-managerial'      6086\n",
       "b'Adm-clerical'         5611\n",
       "b'Sales'                5504\n",
       "b'Other-service'        4923\n",
       "b'Machine-op-inspct'    3021\n",
       "b'?'                    2809\n",
       "b'Transport-moving'     2355\n",
       "b'Handlers-cleaners'    2072\n",
       "b'Farming-fishing'      1490\n",
       "b'Tech-support'         1446\n",
       "b'Protective-serv'       983\n",
       "b'Priv-house-serv'       242\n",
       "b'Armed-Forces'           15\n",
       "Name: count, dtype: int64"
      ]
     },
     "execution_count": 23,
     "metadata": {},
     "output_type": "execute_result"
    }
   ],
   "source": [
    "df.occupation.value_counts()"
   ]
  },
  {
   "cell_type": "code",
   "execution_count": 24,
   "id": "337f6661",
   "metadata": {
    "collapsed": true
   },
   "outputs": [
    {
     "data": {
      "text/plain": [
       "native-country\n",
       "b'United-States'                 43831\n",
       "b'Mexico'                          951\n",
       "b'?'                               857\n",
       "b'Philippines'                     295\n",
       "b'Germany'                         206\n",
       "b'Puerto-Rico'                     184\n",
       "b'Canada'                          182\n",
       "b'El-Salvador'                     155\n",
       "b'India'                           151\n",
       "b'Cuba'                            138\n",
       "b'England'                         127\n",
       "b'China'                           122\n",
       "b'South'                           115\n",
       "b'Jamaica'                         106\n",
       "b'Italy'                           105\n",
       "b'Dominican-Republic'              103\n",
       "b'Japan'                            92\n",
       "b'Guatemala'                        88\n",
       "b'Poland'                           87\n",
       "b'Vietnam'                          86\n",
       "b'Columbia'                         85\n",
       "b'Haiti'                            75\n",
       "b'Portugal'                         67\n",
       "b'Taiwan'                           65\n",
       "b'Iran'                             59\n",
       "b'Greece'                           49\n",
       "b'Nicaragua'                        49\n",
       "b'Peru'                             46\n",
       "b'Ecuador'                          45\n",
       "b'France'                           38\n",
       "b'Ireland'                          37\n",
       "b'Hong'                             30\n",
       "b'Thailand'                         30\n",
       "b'Cambodia'                         28\n",
       "b'Trinadad&Tobago'                  27\n",
       "b'Laos'                             23\n",
       "b'Yugoslavia'                       23\n",
       "b'Outlying-US(Guam-USVI-etc)'       23\n",
       "b'Scotland'                         21\n",
       "b'Honduras'                         20\n",
       "b'Hungary'                          19\n",
       "b'Holand-Netherlands'                1\n",
       "Name: count, dtype: int64"
      ]
     },
     "execution_count": 24,
     "metadata": {},
     "output_type": "execute_result"
    }
   ],
   "source": [
    "df['native-country'].value_counts()"
   ]
  },
  {
   "cell_type": "code",
   "execution_count": 27,
   "id": "7a0ef735",
   "metadata": {},
   "outputs": [
    {
     "data": {
      "text/html": [
       "<div>\n",
       "<style scoped>\n",
       "    .dataframe tbody tr th:only-of-type {\n",
       "        vertical-align: middle;\n",
       "    }\n",
       "\n",
       "    .dataframe tbody tr th {\n",
       "        vertical-align: top;\n",
       "    }\n",
       "\n",
       "    .dataframe thead th {\n",
       "        text-align: right;\n",
       "    }\n",
       "</style>\n",
       "<table border=\"1\" class=\"dataframe\">\n",
       "  <thead>\n",
       "    <tr style=\"text-align: right;\">\n",
       "      <th></th>\n",
       "      <th>sex</th>\n",
       "      <th>relationship</th>\n",
       "    </tr>\n",
       "  </thead>\n",
       "  <tbody>\n",
       "    <tr>\n",
       "      <th>1</th>\n",
       "      <td>b'Male'</td>\n",
       "      <td>b'Husband'</td>\n",
       "    </tr>\n",
       "    <tr>\n",
       "      <th>2</th>\n",
       "      <td>b'Male'</td>\n",
       "      <td>b'Husband'</td>\n",
       "    </tr>\n",
       "    <tr>\n",
       "      <th>3</th>\n",
       "      <td>b'Male'</td>\n",
       "      <td>b'Husband'</td>\n",
       "    </tr>\n",
       "    <tr>\n",
       "      <th>4</th>\n",
       "      <td>b'Female'</td>\n",
       "      <td>b'Own-child'</td>\n",
       "    </tr>\n",
       "    <tr>\n",
       "      <th>5</th>\n",
       "      <td>b'Male'</td>\n",
       "      <td>b'Not-in-family'</td>\n",
       "    </tr>\n",
       "    <tr>\n",
       "      <th>...</th>\n",
       "      <td>...</td>\n",
       "      <td>...</td>\n",
       "    </tr>\n",
       "    <tr>\n",
       "      <th>48837</th>\n",
       "      <td>b'Female'</td>\n",
       "      <td>b'Wife'</td>\n",
       "    </tr>\n",
       "    <tr>\n",
       "      <th>48838</th>\n",
       "      <td>b'Male'</td>\n",
       "      <td>b'Husband'</td>\n",
       "    </tr>\n",
       "    <tr>\n",
       "      <th>48839</th>\n",
       "      <td>b'Female'</td>\n",
       "      <td>b'Unmarried'</td>\n",
       "    </tr>\n",
       "    <tr>\n",
       "      <th>48840</th>\n",
       "      <td>b'Male'</td>\n",
       "      <td>b'Own-child'</td>\n",
       "    </tr>\n",
       "    <tr>\n",
       "      <th>48841</th>\n",
       "      <td>b'Female'</td>\n",
       "      <td>b'Wife'</td>\n",
       "    </tr>\n",
       "  </tbody>\n",
       "</table>\n",
       "<p>48841 rows × 2 columns</p>\n",
       "</div>"
      ],
      "text/plain": [
       "             sex      relationship\n",
       "1        b'Male'        b'Husband'\n",
       "2        b'Male'        b'Husband'\n",
       "3        b'Male'        b'Husband'\n",
       "4      b'Female'      b'Own-child'\n",
       "5        b'Male'  b'Not-in-family'\n",
       "...          ...               ...\n",
       "48837  b'Female'           b'Wife'\n",
       "48838    b'Male'        b'Husband'\n",
       "48839  b'Female'      b'Unmarried'\n",
       "48840    b'Male'      b'Own-child'\n",
       "48841  b'Female'           b'Wife'\n",
       "\n",
       "[48841 rows x 2 columns]"
      ]
     },
     "execution_count": 27,
     "metadata": {},
     "output_type": "execute_result"
    }
   ],
   "source": [
    "df[['sex', 'relationship']]"
   ]
  },
  {
   "cell_type": "code",
   "execution_count": 40,
   "id": "2e5d7b14",
   "metadata": {},
   "outputs": [
    {
     "data": {
      "image/png": "[encoded data removed]",
      "text/plain": [
       "<Figure size 640x480 with 1 Axes>"
      ]
     },
     "metadata": {},
     "output_type": "display_data"
    }
   ],
   "source": [
    "sns.histplot(data=df, x='relationship', hue='sex', bins=10)\n",
    "plt.show()"
   ]
  },
  {
   "cell_type": "code",
   "execution_count": null,
   "id": "26d9ace5",
   "metadata": {},
   "outputs": [],
   "source": []
  }
 ],
 "metadata": {
  "kernelspec": {
   "display_name": "Python 3 (ipykernel)",
   "language": "python",
   "name": "python3"
  },
  "language_info": {
   "codemirror_mode": {
    "name": "ipython",
    "version": 3
   },
   "file_extension": ".py",
   "mimetype": "text/x-python",
   "name": "python",
   "nbconvert_exporter": "python",
   "pygments_lexer": "ipython3",
   "version": "3.9.18"
  }
 },
 "nbformat": 4,
 "nbformat_minor": 5
}
